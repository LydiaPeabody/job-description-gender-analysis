{
 "cells": [
  {
   "cell_type": "code",
   "execution_count": 1,
   "metadata": {},
   "outputs": [],
   "source": [
    "import pandas as pd\n",
    "import numpy as np\n",
    "import re\n",
    "import pdb\n",
    "\n",
    "from textblob import TextBlob, Word\n",
    "import string\n",
    "import nltk\n",
    "\n",
    "import matplotlib.pyplot as plt\n",
    "import seaborn as sns\n",
    "\n",
    "%matplotlib inline"
   ]
  },
  {
   "cell_type": "markdown",
   "metadata": {},
   "source": [
    "# changing text below to markdown as not in current use"
   ]
  },
  {
   "cell_type": "code",
   "execution_count": null,
   "metadata": {},
   "outputs": [],
   "source": [
    "#importing raw data\n",
    "jobs_original = pd.read_csv('./data/alljobs_unclean.csv')\n",
    "jobs_original.head()"
   ]
  },
  {
   "cell_type": "code",
   "execution_count": null,
   "metadata": {},
   "outputs": [],
   "source": [
    "import pandas_profiling\n",
    "pandas_profiling.ProfileReport(jobs_original)"
   ]
  },
  {
   "cell_type": "code",
   "execution_count": null,
   "metadata": {},
   "outputs": [],
   "source": [
    "#looks like we have a lot of duplicate jobs\n",
    "#not surprising from general scraping\n",
    "for column in jobs_original.columns:\n",
    "    print(column, jobs_original.duplicated(subset=column).sum() )\n"
   ]
  },
  {
   "cell_type": "code",
   "execution_count": null,
   "metadata": {},
   "outputs": [],
   "source": [
    "#starting by dropping all fully duplicate columns\n",
    "jobs_original.drop_duplicates(keep='first').shape"
   ]
  },
  {
   "cell_type": "code",
   "execution_count": null,
   "metadata": {},
   "outputs": [],
   "source": [
    "#looks like this loses us over half our data!\n",
    "jobs_nona = jobs_original.drop_duplicates(keep='first')"
   ]
  },
  {
   "cell_type": "code",
   "execution_count": null,
   "metadata": {},
   "outputs": [],
   "source": [
    "pandas_profiling.ProfileReport(jobs_nona)"
   ]
  },
  {
   "cell_type": "code",
   "execution_count": null,
   "metadata": {},
   "outputs": [],
   "source": [
    "#fully duplicated description text is likely to be a true duplicate\n",
    "duplicate_jds = jobs_nona[jobs_nona.duplicated(subset='job_description_all_text')]"
   ]
  },
  {
   "cell_type": "code",
   "execution_count": null,
   "metadata": {},
   "outputs": [],
   "source": [
    "pandas_profiling.ProfileReport(duplicate_jds)"
   ]
  },
  {
   "cell_type": "code",
   "execution_count": null,
   "metadata": {},
   "outputs": [],
   "source": [
    "#does look like some may be the same job advertised with various titles\n",
    "#why are only 37 of these considered duplicated, when all of them were before?\n",
    "duplicate_jds.duplicated('job_description_all_text').sum()"
   ]
  },
  {
   "cell_type": "code",
   "execution_count": null,
   "metadata": {},
   "outputs": [],
   "source": [
    "import missingno"
   ]
  },
  {
   "cell_type": "code",
   "execution_count": null,
   "metadata": {},
   "outputs": [],
   "source": [
    "missingno.matrix(jobs_nona)"
   ]
  },
  {
   "cell_type": "code",
   "execution_count": null,
   "metadata": {},
   "outputs": [],
   "source": [
    "#company rating and salary are expected to be sparse\n",
    "#company is not really essential, so not concerned about missing values there\n",
    "#can't do much if jd text is missing, so will drop those\n",
    "\n",
    "jobs_nona = jobs_nona.dropna(subset=['job_description_all_text'])\n",
    "jobs_nona.isna().sum()"
   ]
  },
  {
   "cell_type": "code",
   "execution_count": null,
   "metadata": {},
   "outputs": [],
   "source": [
    "# Given that only 16 are missing in company, let's look at those\n",
    "jobs_nona[jobs_nona.company.isna()]"
   ]
  },
  {
   "cell_type": "code",
   "execution_count": null,
   "metadata": {},
   "outputs": [],
   "source": [
    "duplicate_jds[duplicate_jds.duplicated('job_description_all_text')]"
   ]
  },
  {
   "cell_type": "code",
   "execution_count": null,
   "metadata": {},
   "outputs": [],
   "source": [
    "#may still be some duplicates, but many appear to be using similar text to hire for multiple roles \n",
    "#or hiring for the same jobs in multiple locations or functions, so leaving remaining in for now"
   ]
  },
  {
   "cell_type": "code",
   "execution_count": null,
   "metadata": {},
   "outputs": [],
   "source": [
    "#need to convert rating to float\n",
    "jobs_nona.company_rating.unique()"
   ]
  },
  {
   "cell_type": "code",
   "execution_count": null,
   "metadata": {},
   "outputs": [],
   "source": [
    "float_ratings = []\n",
    "for rating in jobs_nona.company_rating:\n",
    "    try:\n",
    "        float_ratings.append(float(rating))\n",
    "    except:\n",
    "        new_rating = rating.replace(' ', '.')\n",
    "        new_rating = new_rating.replace('o', '0')\n",
    "        float_ratings.append(float(new_rating))\n",
    "\n",
    "jobs_nona.company_rating = float_ratings\n",
    "jobs_nona.company_rating.unique()"
   ]
  },
  {
   "cell_type": "code",
   "execution_count": null,
   "metadata": {},
   "outputs": [],
   "source": [
    "#saving a csv file to have a shorter list of things to fix in the future\n",
    "jobs_nona.to_csv('./data/alljobs_nodupes.csv', index=False)"
   ]
  },
  {
   "cell_type": "code",
   "execution_count": 2,
   "metadata": {},
   "outputs": [],
   "source": [
    "#importing previously saved semi-clean file\n",
    "jobs_nodupes = pd.read_csv('./data/alljobs_nodupes.csv')"
   ]
  },
  {
   "cell_type": "code",
   "execution_count": 3,
   "metadata": {},
   "outputs": [
    {
     "name": "stdout",
     "output_type": "stream",
     "text": [
      "(20029, 7)\n"
     ]
    },
    {
     "data": {
      "text/html": [
       "<div>\n",
       "<style scoped>\n",
       "    .dataframe tbody tr th:only-of-type {\n",
       "        vertical-align: middle;\n",
       "    }\n",
       "\n",
       "    .dataframe tbody tr th {\n",
       "        vertical-align: top;\n",
       "    }\n",
       "\n",
       "    .dataframe thead th {\n",
       "        text-align: right;\n",
       "    }\n",
       "</style>\n",
       "<table border=\"1\" class=\"dataframe\">\n",
       "  <thead>\n",
       "    <tr style=\"text-align: right;\">\n",
       "      <th></th>\n",
       "      <th>company</th>\n",
       "      <th>company_rating</th>\n",
       "      <th>industry</th>\n",
       "      <th>job_description_all_text</th>\n",
       "      <th>job_title</th>\n",
       "      <th>location</th>\n",
       "      <th>salary_data_text</th>\n",
       "    </tr>\n",
       "  </thead>\n",
       "  <tbody>\n",
       "    <tr>\n",
       "      <th>0</th>\n",
       "      <td>ANZ Banking Group</td>\n",
       "      <td>4.1</td>\n",
       "      <td>data</td>\n",
       "      <td>Consultant Data Scientist – Data Activation, M...</td>\n",
       "      <td>Data Scientist Consultant</td>\n",
       "      <td>Melbourne</td>\n",
       "      <td>NaN</td>\n",
       "    </tr>\n",
       "    <tr>\n",
       "      <th>1</th>\n",
       "      <td>NAB - National Australia Bank</td>\n",
       "      <td>3.8</td>\n",
       "      <td>data</td>\n",
       "      <td>Work type: Permanent Full time\\nLocation: Aust...</td>\n",
       "      <td>Data Scientist</td>\n",
       "      <td>Melbourne</td>\n",
       "      <td>NaN</td>\n",
       "    </tr>\n",
       "    <tr>\n",
       "      <th>2</th>\n",
       "      <td>ANZ Banking Group</td>\n",
       "      <td>4.1</td>\n",
       "      <td>data</td>\n",
       "      <td>The Team\\n\\nThe Customer Service Operations Au...</td>\n",
       "      <td>Senior Data Scientist</td>\n",
       "      <td>Melbourne</td>\n",
       "      <td>NaN</td>\n",
       "    </tr>\n",
       "    <tr>\n",
       "      <th>3</th>\n",
       "      <td>NAB - National Australia Bank</td>\n",
       "      <td>3.8</td>\n",
       "      <td>data</td>\n",
       "      <td>Work type: Permanent Full time\\nLocation: Aust...</td>\n",
       "      <td>Data Analytics Engineer</td>\n",
       "      <td>Melbourne</td>\n",
       "      <td>NaN</td>\n",
       "    </tr>\n",
       "    <tr>\n",
       "      <th>4</th>\n",
       "      <td>Coles</td>\n",
       "      <td>3.8</td>\n",
       "      <td>data</td>\n",
       "      <td>About Us\\n\\nThe Digital team is focused on rei...</td>\n",
       "      <td>Data Scientist</td>\n",
       "      <td>Melbourne</td>\n",
       "      <td>NaN</td>\n",
       "    </tr>\n",
       "  </tbody>\n",
       "</table>\n",
       "</div>"
      ],
      "text/plain": [
       "                         company  company_rating industry  \\\n",
       "0              ANZ Banking Group             4.1     data   \n",
       "1  NAB - National Australia Bank             3.8     data   \n",
       "2              ANZ Banking Group             4.1     data   \n",
       "3  NAB - National Australia Bank             3.8     data   \n",
       "4                          Coles             3.8     data   \n",
       "\n",
       "                            job_description_all_text  \\\n",
       "0  Consultant Data Scientist – Data Activation, M...   \n",
       "1  Work type: Permanent Full time\\nLocation: Aust...   \n",
       "2  The Team\\n\\nThe Customer Service Operations Au...   \n",
       "3  Work type: Permanent Full time\\nLocation: Aust...   \n",
       "4  About Us\\n\\nThe Digital team is focused on rei...   \n",
       "\n",
       "                   job_title   location salary_data_text  \n",
       "0  Data Scientist Consultant  Melbourne              NaN  \n",
       "1             Data Scientist  Melbourne              NaN  \n",
       "2      Senior Data Scientist  Melbourne              NaN  \n",
       "3    Data Analytics Engineer  Melbourne              NaN  \n",
       "4             Data Scientist  Melbourne              NaN  "
      ]
     },
     "execution_count": 3,
     "metadata": {},
     "output_type": "execute_result"
    }
   ],
   "source": [
    "print(jobs_nodupes.shape)\n",
    "jobs_nodupes.head()"
   ]
  },
  {
   "cell_type": "code",
   "execution_count": 4,
   "metadata": {},
   "outputs": [],
   "source": [
    "from nltk.corpus import stopwords \n",
    "from nltk.tokenize import word_tokenize \n",
    "\n",
    "\n",
    "stop_words = set(stopwords.words('english')) "
   ]
  },
  {
   "cell_type": "code",
   "execution_count": 5,
   "metadata": {
    "scrolled": true
   },
   "outputs": [],
   "source": [
    "#removing nltk stop-words in each jd\n",
    "jd_no_stopwords = []\n",
    "for jd in jobs_nodupes.job_description_all_text:\n",
    "    \n",
    "    translator = str.maketrans('', '', string.punctuation)\n",
    "    no_stops_jd = jd.lower()\n",
    "    no_stops_jd = jd.translate(translator)\n",
    "\n",
    "\n",
    "    word_tokens = word_tokenize(no_stops_jd)\n",
    "    filtered_jd_words = [w for w in [w.lower() for w in word_tokens] if w not in stop_words]\n",
    "    \n",
    "    jd_no_stopwords.append(filtered_jd_words)\n",
    "\n",
    "jobs_nodupes['jd_no_stopwords'] = jd_no_stopwords"
   ]
  },
  {
   "cell_type": "markdown",
   "metadata": {},
   "source": [
    "### Formatting salary data\n",
    "Will create 3 columns:\n",
    "* salary_value: the value provided in the jd or the mean of a range provided\n",
    "* salary_period: frequency in jd e.g. hour, day, month, year\n",
    "* annual_salary: convert all amounts to annual salary "
   ]
  },
  {
   "cell_type": "code",
   "execution_count": 6,
   "metadata": {},
   "outputs": [],
   "source": [
    "def find_salary_mean(salary_text):\n",
    "    \n",
    "    \"\"\"accepts a collection of strings including salary numbers\n",
    "    returns either the number in the text or the mean if multiple numbers\"\"\"\n",
    "    \n",
    "    try:\n",
    "        find_numbers = re.findall('\\d*', salary_text.replace(',', ''))\n",
    "        salary_values = [int(number) for number in find_numbers if number != '']\n",
    "        salary_mean = np.mean(salary_values)\n",
    "    except:\n",
    "        salary_mean = np.nan\n",
    "        \n",
    "    return salary_mean\n"
   ]
  },
  {
   "cell_type": "code",
   "execution_count": 7,
   "metadata": {},
   "outputs": [],
   "source": [
    "jobs_nodupes['salary_values'] = [find_salary_mean(salary) for salary in jobs_nodupes.salary_data_text]\n"
   ]
  },
  {
   "cell_type": "code",
   "execution_count": 8,
   "metadata": {
    "scrolled": true
   },
   "outputs": [
    {
     "data": {
      "text/plain": [
       "<matplotlib.axes._subplots.AxesSubplot at 0x1e6dc849860>"
      ]
     },
     "execution_count": 8,
     "metadata": {},
     "output_type": "execute_result"
    },
    {
     "data": {
      "image/png": "[encoded data removed]",
      "text/plain": [
       "<Figure size 432x288 with 1 Axes>"
      ]
     },
     "metadata": {
      "needs_background": "light"
     },
     "output_type": "display_data"
    }
   ],
   "source": [
    "sns.boxplot(jobs_nodupes.salary_values)"
   ]
  },
  {
   "cell_type": "code",
   "execution_count": 9,
   "metadata": {
    "scrolled": true
   },
   "outputs": [
    {
     "data": {
      "text/html": [
       "<div>\n",
       "<style scoped>\n",
       "    .dataframe tbody tr th:only-of-type {\n",
       "        vertical-align: middle;\n",
       "    }\n",
       "\n",
       "    .dataframe tbody tr th {\n",
       "        vertical-align: top;\n",
       "    }\n",
       "\n",
       "    .dataframe thead th {\n",
       "        text-align: right;\n",
       "    }\n",
       "</style>\n",
       "<table border=\"1\" class=\"dataframe\">\n",
       "  <thead>\n",
       "    <tr style=\"text-align: right;\">\n",
       "      <th></th>\n",
       "      <th>salary_values</th>\n",
       "      <th>salary_data_text</th>\n",
       "    </tr>\n",
       "  </thead>\n",
       "  <tbody>\n",
       "    <tr>\n",
       "      <th>1363</th>\n",
       "      <td>300000.0</td>\n",
       "      <td>$300,000 a year</td>\n",
       "    </tr>\n",
       "    <tr>\n",
       "      <th>8509</th>\n",
       "      <td>300000.0</td>\n",
       "      <td>$300,000 a year</td>\n",
       "    </tr>\n",
       "    <tr>\n",
       "      <th>9073</th>\n",
       "      <td>300000.0</td>\n",
       "      <td>$300,000 a year</td>\n",
       "    </tr>\n",
       "    <tr>\n",
       "      <th>12118</th>\n",
       "      <td>300979.0</td>\n",
       "      <td>$271,494 - $330,464 a year</td>\n",
       "    </tr>\n",
       "    <tr>\n",
       "      <th>15508</th>\n",
       "      <td>500000.0</td>\n",
       "      <td>$400,000 - $600,000 a year</td>\n",
       "    </tr>\n",
       "    <tr>\n",
       "      <th>15534</th>\n",
       "      <td>450000.0</td>\n",
       "      <td>$450,000 a year</td>\n",
       "    </tr>\n",
       "    <tr>\n",
       "      <th>15543</th>\n",
       "      <td>450000.0</td>\n",
       "      <td>$450,000 a year</td>\n",
       "    </tr>\n",
       "    <tr>\n",
       "      <th>17927</th>\n",
       "      <td>450000.0</td>\n",
       "      <td>$450,000 a year</td>\n",
       "    </tr>\n",
       "    <tr>\n",
       "      <th>17956</th>\n",
       "      <td>450000.0</td>\n",
       "      <td>$450,000 a year</td>\n",
       "    </tr>\n",
       "  </tbody>\n",
       "</table>\n",
       "</div>"
      ],
      "text/plain": [
       "       salary_values            salary_data_text\n",
       "1363        300000.0             $300,000 a year\n",
       "8509        300000.0             $300,000 a year\n",
       "9073        300000.0             $300,000 a year\n",
       "12118       300979.0  $271,494 - $330,464 a year\n",
       "15508       500000.0  $400,000 - $600,000 a year\n",
       "15534       450000.0             $450,000 a year\n",
       "15543       450000.0             $450,000 a year\n",
       "17927       450000.0             $450,000 a year\n",
       "17956       450000.0             $450,000 a year"
      ]
     },
     "execution_count": 9,
     "metadata": {},
     "output_type": "execute_result"
    }
   ],
   "source": [
    "jobs_nodupes[['salary_values','salary_data_text']][jobs_nodupes.salary_values > 250000]"
   ]
  },
  {
   "cell_type": "code",
   "execution_count": 10,
   "metadata": {},
   "outputs": [],
   "source": [
    "def find_salary_period(salary_column, pay_lengths = ['hour','day','week','month','year']):\n",
    "    \n",
    "    \"\"\"pulls common salary timescales out of a collection of strings describing salaries\"\"\"\n",
    "    \n",
    "    salary_times = []\n",
    "    \n",
    "    for text in salary_column:\n",
    "        if type(text) != str:\n",
    "            salary_times.append(None)\n",
    "        else:\n",
    "            salary_time = 'check'\n",
    "            for option in pay_lengths:\n",
    "                if option in text:\n",
    "                    salary_time = option\n",
    "            if salary_time != 'check':\n",
    "                salary_times.append(salary_time)\n",
    "            else:\n",
    "                salary_times.append('unknown')\n",
    "\n",
    "    \n",
    "    return(salary_times)"
   ]
  },
  {
   "cell_type": "code",
   "execution_count": 11,
   "metadata": {},
   "outputs": [],
   "source": [
    "jobs_nodupes['salary_period'] = find_salary_period(jobs_nodupes.salary_data_text)"
   ]
  },
  {
   "cell_type": "code",
   "execution_count": 12,
   "metadata": {},
   "outputs": [
    {
     "data": {
      "text/plain": [
       "year     3040\n",
       "hour     1509\n",
       "day       129\n",
       "week       62\n",
       "month       9\n",
       "Name: salary_period, dtype: int64"
      ]
     },
     "execution_count": 12,
     "metadata": {},
     "output_type": "execute_result"
    }
   ],
   "source": [
    "#no unknowns\n",
    "jobs_nodupes.salary_period.value_counts()"
   ]
  },
  {
   "cell_type": "code",
   "execution_count": 14,
   "metadata": {},
   "outputs": [
    {
     "data": {
      "image/png": "[encoded data removed]",
      "text/plain": [
       "<Figure size 1080x576 with 6 Axes>"
      ]
     },
     "metadata": {
      "needs_background": "light"
     },
     "output_type": "display_data"
    }
   ],
   "source": [
    "fig, axes = plt.subplots(2,3,figsize=(15,8))\n",
    "count = 1\n",
    "for time in jobs_nodupes.salary_period.unique():\n",
    "    if type(time) == str:\n",
    "        data = jobs_nodupes[jobs_nodupes.salary_period == time]\n",
    "        axi = plt.subplot(2,3,count)\n",
    "        sns.boxplot(x='salary_period', y='salary_values', data=data, ax=axi)\n",
    "        count += 1\n",
    "\n"
   ]
  },
  {
   "cell_type": "code",
   "execution_count": 15,
   "metadata": {},
   "outputs": [
    {
     "data": {
      "text/html": [
       "<div>\n",
       "<style scoped>\n",
       "    .dataframe tbody tr th:only-of-type {\n",
       "        vertical-align: middle;\n",
       "    }\n",
       "\n",
       "    .dataframe tbody tr th {\n",
       "        vertical-align: top;\n",
       "    }\n",
       "\n",
       "    .dataframe thead th {\n",
       "        text-align: right;\n",
       "    }\n",
       "</style>\n",
       "<table border=\"1\" class=\"dataframe\">\n",
       "  <thead>\n",
       "    <tr style=\"text-align: right;\">\n",
       "      <th></th>\n",
       "      <th>company</th>\n",
       "      <th>company_rating</th>\n",
       "      <th>industry</th>\n",
       "      <th>job_description_all_text</th>\n",
       "      <th>job_title</th>\n",
       "      <th>location</th>\n",
       "      <th>salary_data_text</th>\n",
       "      <th>jd_no_stopwords</th>\n",
       "      <th>salary_values</th>\n",
       "      <th>salary_period</th>\n",
       "    </tr>\n",
       "  </thead>\n",
       "  <tbody>\n",
       "    <tr>\n",
       "      <th>4199</th>\n",
       "      <td>Corex Finance</td>\n",
       "      <td>NaN</td>\n",
       "      <td>finance</td>\n",
       "      <td>Mortgage Broker AssistantCorex FinanceFull tim...</td>\n",
       "      <td>Mortgage Broker Assistant</td>\n",
       "      <td>Melbourne</td>\n",
       "      <td>$35,000 - $40,000 a month</td>\n",
       "      <td>[mortgage, broker, assistantcorex, financefull...</td>\n",
       "      <td>37500.0</td>\n",
       "      <td>month</td>\n",
       "    </tr>\n",
       "    <tr>\n",
       "      <th>4252</th>\n",
       "      <td>Corex Finance</td>\n",
       "      <td>NaN</td>\n",
       "      <td>finance</td>\n",
       "      <td>Mortgage Broker AssistantCorex FinanceFull tim...</td>\n",
       "      <td>Mortgage Broker</td>\n",
       "      <td>Melbourne</td>\n",
       "      <td>$35,000 - $40,000 a month</td>\n",
       "      <td>[mortgage, broker, assistantcorex, financefull...</td>\n",
       "      <td>37500.0</td>\n",
       "      <td>month</td>\n",
       "    </tr>\n",
       "  </tbody>\n",
       "</table>\n",
       "</div>"
      ],
      "text/plain": [
       "            company  company_rating industry  \\\n",
       "4199  Corex Finance             NaN  finance   \n",
       "4252  Corex Finance             NaN  finance   \n",
       "\n",
       "                               job_description_all_text  \\\n",
       "4199  Mortgage Broker AssistantCorex FinanceFull tim...   \n",
       "4252  Mortgage Broker AssistantCorex FinanceFull tim...   \n",
       "\n",
       "                      job_title   location           salary_data_text  \\\n",
       "4199  Mortgage Broker Assistant  Melbourne  $35,000 - $40,000 a month   \n",
       "4252            Mortgage Broker  Melbourne  $35,000 - $40,000 a month   \n",
       "\n",
       "                                        jd_no_stopwords  salary_values  \\\n",
       "4199  [mortgage, broker, assistantcorex, financefull...        37500.0   \n",
       "4252  [mortgage, broker, assistantcorex, financefull...        37500.0   \n",
       "\n",
       "     salary_period  \n",
       "4199         month  \n",
       "4252         month  "
      ]
     },
     "execution_count": 15,
     "metadata": {},
     "output_type": "execute_result"
    }
   ],
   "source": [
    "#one potential outlier for month\n",
    "jobs_nodupes[(jobs_nodupes.salary_period == 'month') & (jobs_nodupes.salary_values > 20000)]"
   ]
  },
  {
   "cell_type": "code",
   "execution_count": 16,
   "metadata": {},
   "outputs": [
    {
     "data": {
      "text/html": [
       "<div>\n",
       "<style scoped>\n",
       "    .dataframe tbody tr th:only-of-type {\n",
       "        vertical-align: middle;\n",
       "    }\n",
       "\n",
       "    .dataframe tbody tr th {\n",
       "        vertical-align: top;\n",
       "    }\n",
       "\n",
       "    .dataframe thead th {\n",
       "        text-align: right;\n",
       "    }\n",
       "</style>\n",
       "<table border=\"1\" class=\"dataframe\">\n",
       "  <thead>\n",
       "    <tr style=\"text-align: right;\">\n",
       "      <th></th>\n",
       "      <th>company</th>\n",
       "      <th>company_rating</th>\n",
       "      <th>industry</th>\n",
       "      <th>job_description_all_text</th>\n",
       "      <th>job_title</th>\n",
       "      <th>location</th>\n",
       "      <th>salary_data_text</th>\n",
       "      <th>jd_no_stopwords</th>\n",
       "      <th>salary_values</th>\n",
       "      <th>salary_period</th>\n",
       "    </tr>\n",
       "  </thead>\n",
       "  <tbody>\n",
       "    <tr>\n",
       "      <th>4199</th>\n",
       "      <td>Corex Finance</td>\n",
       "      <td>NaN</td>\n",
       "      <td>finance</td>\n",
       "      <td>Mortgage Broker AssistantCorex FinanceFull tim...</td>\n",
       "      <td>Mortgage Broker Assistant</td>\n",
       "      <td>Melbourne</td>\n",
       "      <td>$35,000 - $40,000 a month</td>\n",
       "      <td>[mortgage, broker, assistantcorex, financefull...</td>\n",
       "      <td>37500.0</td>\n",
       "      <td>month</td>\n",
       "    </tr>\n",
       "  </tbody>\n",
       "</table>\n",
       "</div>"
      ],
      "text/plain": [
       "            company  company_rating industry  \\\n",
       "4199  Corex Finance             NaN  finance   \n",
       "\n",
       "                               job_description_all_text  \\\n",
       "4199  Mortgage Broker AssistantCorex FinanceFull tim...   \n",
       "\n",
       "                      job_title   location           salary_data_text  \\\n",
       "4199  Mortgage Broker Assistant  Melbourne  $35,000 - $40,000 a month   \n",
       "\n",
       "                                        jd_no_stopwords  salary_values  \\\n",
       "4199  [mortgage, broker, assistantcorex, financefull...        37500.0   \n",
       "\n",
       "     salary_period  \n",
       "4199         month  "
      ]
     },
     "execution_count": 16,
     "metadata": {},
     "output_type": "execute_result"
    }
   ],
   "source": [
    "#appears to be valid, but also a duplicate\n",
    "jobs_nodupes.drop(4252, inplace=True)\n",
    "jobs_nodupes[(jobs_nodupes.salary_period == 'month') & (jobs_nodupes.salary_values > 20000)]"
   ]
  },
  {
   "cell_type": "code",
   "execution_count": 18,
   "metadata": {},
   "outputs": [],
   "source": [
    "salary_multipliers = []\n",
    "\n",
    "for time in jobs_nodupes.salary_period:\n",
    "    if time == 'year':\n",
    "        multiplier = 1\n",
    "    elif time == 'month':\n",
    "        multiplier = 12\n",
    "    elif time == 'week':\n",
    "        multiplier = 52\n",
    "    elif time == 'day':\n",
    "        multiplier = 260\n",
    "    elif time == 'hour':\n",
    "        multiplier = 2080 \n",
    "    else:\n",
    "        multiplier = None\n",
    "        \n",
    "    salary_multipliers.append(multiplier)"
   ]
  },
  {
   "cell_type": "code",
   "execution_count": 19,
   "metadata": {},
   "outputs": [],
   "source": [
    "jobs_nodupes['salary_multiplier'] = salary_multipliers"
   ]
  },
  {
   "cell_type": "code",
   "execution_count": 20,
   "metadata": {},
   "outputs": [],
   "source": [
    "jobs_nodupes['annual_salary'] = jobs_nodupes.salary_values * jobs_nodupes.salary_multiplier"
   ]
  },
  {
   "cell_type": "code",
   "execution_count": 21,
   "metadata": {
    "scrolled": true
   },
   "outputs": [
    {
     "data": {
      "text/plain": [
       "<matplotlib.axes._subplots.AxesSubplot at 0x1e6f4731e48>"
      ]
     },
     "execution_count": 21,
     "metadata": {},
     "output_type": "execute_result"
    },
    {
     "data": {
      "image/png": "[encoded data removed]",
      "text/plain": [
       "<Figure size 432x288 with 1 Axes>"
      ]
     },
     "metadata": {
      "needs_background": "light"
     },
     "output_type": "display_data"
    }
   ],
   "source": [
    "sns.boxplot(x='salary_period', y='annual_salary', data=jobs_nodupes)"
   ]
  },
  {
   "cell_type": "markdown",
   "metadata": {},
   "source": [
    "### Checking industry values are as expected"
   ]
  },
  {
   "cell_type": "code",
   "execution_count": 22,
   "metadata": {
    "scrolled": true
   },
   "outputs": [
    {
     "data": {
      "text/plain": [
       "retail            3182\n",
       "finance           2832\n",
       "manufacturing     2709\n",
       "nursing           2346\n",
       "hospitality       2203\n",
       "data              1516\n",
       "construction      1514\n",
       "dataanalyst       1177\n",
       "datascience       1086\n",
       "earlylearning     1038\n",
       "early_learning     425\n",
       "Name: industry, dtype: int64"
      ]
     },
     "execution_count": 22,
     "metadata": {},
     "output_type": "execute_result"
    }
   ],
   "source": [
    "jobs_nodupes.industry.value_counts()"
   ]
  },
  {
   "cell_type": "code",
   "execution_count": 25,
   "metadata": {},
   "outputs": [
    {
     "name": "stdout",
     "output_type": "stream",
     "text": [
      "8\n"
     ]
    },
    {
     "data": {
      "text/plain": [
       "data              3779\n",
       "retail            3182\n",
       "finance           2832\n",
       "manufacturing     2709\n",
       "nursing           2346\n",
       "hospitality       2203\n",
       "construction      1514\n",
       "early_learning    1463\n",
       "Name: industry, dtype: int64"
      ]
     },
     "execution_count": 25,
     "metadata": {},
     "output_type": "execute_result"
    }
   ],
   "source": [
    "#combining data, dataanalyst, and datascience\n",
    "#combining earlylearning and early_learning\n",
    "jobs_nodupes.industry = jobs_nodupes.industry.map(lambda x: 'data' if 'data' in x else x)\n",
    "jobs_nodupes.industry = jobs_nodupes.industry.map(lambda x: 'early_learning' if 'early' in x else x)\n",
    "\n",
    "print(jobs_nodupes.industry.value_counts().count())\n",
    "jobs_nodupes.industry.value_counts()"
   ]
  },
  {
   "cell_type": "code",
   "execution_count": 27,
   "metadata": {},
   "outputs": [],
   "source": [
    "#saving new file with cleaned data\n",
    "jobs_nodupes.to_csv('./data/alljobs_clean.csv', index=False)"
   ]
  },
  {
   "cell_type": "code",
   "execution_count": null,
   "metadata": {},
   "outputs": [],
   "source": []
  }
 ],
 "metadata": {
  "kernelspec": {
   "display_name": "Python 3",
   "language": "python",
   "name": "python3"
  },
  "language_info": {
   "codemirror_mode": {
    "name": "ipython",
    "version": 3
   },
   "file_extension": ".py",
   "mimetype": "text/x-python",
   "name": "python",
   "nbconvert_exporter": "python",
   "pygments_lexer": "ipython3",
   "version": "3.7.3"
  }
 },
 "nbformat": 4,
 "nbformat_minor": 2
}
