{
 "cells": [
  {
   "cell_type": "code",
   "execution_count": 1,
   "metadata": {},
   "outputs": [],
   "source": [
    "import pandas as pd\n",
    "\n",
    "from bs4 import BeautifulSoup\n",
    "import urllib.request, urllib.parse, urllib.error\n",
    "import requests\n",
    "import re \n",
    "\n",
    "from scrapy.selector import Selector\n",
    "\n",
    "from selenium import webdriver\n",
    "from time import sleep"
   ]
  },
  {
   "cell_type": "markdown",
   "metadata": {},
   "source": [
    "# Strategy for collection\n",
    "\n",
    "1. Pull job links from a search site\n",
    "2. Iterate through collected links to gather data on specific jobs from indivual pages:\n",
    "    * job title\n",
    "    * company \n",
    "    * company rating\n",
    "    * location\n",
    "    * salary (if provided)\n",
    "    * brief description\n",
    "\n",
    "Query url follow a simple format, so we can easily generate search queries. For example a search for \"data scientist\" in Melbourne, Vic is: https://au.indeed.com/jobs?q=data+scientist&l=Melbourne+VIC <br>\n",
    "\n",
    "\n",
    "### These functions allow us to do the basic data collection"
   ]
  },
  {
   "cell_type": "code",
   "execution_count": 13,
   "metadata": {},
   "outputs": [],
   "source": [
    "#storing both selenium and request version to allow switching\n",
    "\n",
    "def make_fresh_soup(url):\n",
    "    '''Accepts a url and returns a BeautifulSoup object'''\n",
    "    \n",
    "    #testing just using request\n",
    "    response = requests.get(url)\n",
    "    html = response.text\n",
    "    \n",
    "#     #use driver and wait one second for javascript to run before capturing html\n",
    "#     driver = webdriver.Chrome(executable_path=\"./chromedriver/chromedriver.exe\")\n",
    "#     driver.get(url)\n",
    "#     sleep(1)\n",
    "#     html = driver.page_source     \n",
    "    \n",
    "    #convert to soup object\n",
    "    soup = BeautifulSoup(html)\n",
    "    \n",
    "#     #close the driver to keep things clean\n",
    "#     driver.close()\n",
    "\n",
    "    return soup"
   ]
  },
  {
   "cell_type": "code",
   "execution_count": 46,
   "metadata": {},
   "outputs": [],
   "source": [
    "\n",
    "\n",
    "def indeed_search(search_terms, location=['Melbourne','VIC']):\n",
    "    \n",
    "    '''Function accepts lists of job search terms and optional location strings \n",
    "    Returns the url for and indeeed search\n",
    "    Search_terms should be a list of terms e.g.['data','scientist']\n",
    "    Location should be a list of city, state; default is ['Melbourne','VIC']'''\n",
    "    \n",
    "    #setting and formatting terms for search\n",
    "    search_string = search_terms[0]\n",
    "    for term in search_terms[1:]:\n",
    "        search_string = search_string + '+' + term\n",
    "\n",
    "    #adding location if provided\n",
    "    location = ['Melbourne', 'VIC']\n",
    "\n",
    "    if location != []:\n",
    "        location_string = location[0] + '+' + location[1]\n",
    "        search_string = search_string + '&l=' + location_string\n",
    "        \n",
    "    #setting url for scraping\n",
    "    search_url = 'https://au.indeed.com/jobs?q=' + search_string\n",
    "\n",
    "\n",
    "\n",
    "    return(search_url)\n",
    "\n"
   ]
  },
  {
   "cell_type": "code",
   "execution_count": 4,
   "metadata": {},
   "outputs": [],
   "source": [
    "\n",
    "\n",
    "def get_job_links(soup_search):\n",
    "    \n",
    "    '''Function to collect the links from an indeed search page\n",
    "    Accepts a BeautifulSoup object of an indeed search page as input\n",
    "    Returns a list of all the links to jobs on the page'''\n",
    "    \n",
    "    #adds website root to collected page elements\n",
    "    links = [('https://au.indeed.com' + x.get('href')) \n",
    "                 for x in soup_search.find_all('a', attrs={'data-tn-element':'jobTitle'})]\n",
    "    return links"
   ]
  },
  {
   "cell_type": "code",
   "execution_count": 5,
   "metadata": {},
   "outputs": [],
   "source": [
    "\n",
    "\n",
    "def get_next_link(soup_search):\n",
    "    \n",
    "    '''Function to pull out the link to the next page of jobs for the search\n",
    "    Accepts a BeautifulSoup object of the search page as input\n",
    "    Returns the link to the next results page, or None on the last page'''\n",
    "    \n",
    "    #find the last of the links to new pages\n",
    "    last_page_link = soup_search.find('div',{'class':'pagination'}).find_all('a')[-1]\n",
    "\n",
    "    #if the text for that link is Next, grab the link\n",
    "    if last_page_link.text.strip().startswith('Next') == True: \n",
    "        next_link = 'https://au.indeed.com' + last_page_link.get('href')\n",
    "    else:\n",
    "        next_link = 'end'\n",
    "\n",
    "\n",
    "    return next_link"
   ]
  },
  {
   "cell_type": "code",
   "execution_count": 52,
   "metadata": {},
   "outputs": [],
   "source": [
    "def do_search(url, links_list, count=1):\n",
    "    \n",
    "    #including error handling to return result even if next page is not found\n",
    "    try:\n",
    "        original_links = links_list\n",
    "\n",
    "        #make soup object for url\n",
    "        soup_search = make_fresh_soup(url)\n",
    "        count += 1\n",
    "\n",
    "        #save the links from the soup object\n",
    "        page_links = get_job_links(soup_search)\n",
    "        all_links = original_links + page_links\n",
    "\n",
    "        #find the link to the next page\n",
    "        next_url = get_next_link(soup_search)\n",
    "\n",
    "        #repeat with next link until last page located\n",
    "        if next_url == 'end':\n",
    "            print(str(count) + 'pages of jobs searched')\n",
    "            return all_links\n",
    "\n",
    "        else:    \n",
    "            return do_search(next_url, all_links, count)\n",
    "    \n",
    "    except:\n",
    "        return all_links"
   ]
  },
  {
   "cell_type": "code",
   "execution_count": 7,
   "metadata": {},
   "outputs": [],
   "source": [
    "def get_job_details(job_url):\n",
    "    \n",
    "    '''Extracts the job title, company, company rating, \n",
    "    job description, and salary from a job listing'''\n",
    "    \n",
    "    #use selenium driver to freeze javascript and capture html\n",
    "    soup_job = make_fresh_soup(job_url)\n",
    "    \n",
    "    job_details = {}\n",
    "    \n",
    "    #these elements are almost always present, but adding exception management just in case\n",
    "    try:\n",
    "        job_details['job_title'] = soup_job.find('h3').text.strip()\n",
    "    except: \n",
    "        job_details['job_title'] = None\n",
    "\n",
    "    try:\n",
    "        job_details['company'] = soup_job.find('div', {'class':\"icl-u-lg-mr--sm icl-u-xs-mr--xs\"}).text.strip()\n",
    "    except:\n",
    "        job_details['company'] = None\n",
    "        \n",
    "    try:\n",
    "        job_details['job_description_all_text'] = soup_job.find('div',{'id':'jobDescriptionText'}).text.strip()\n",
    "    except:\n",
    "        job_details['job_description_all_text'] = None\n",
    "        \n",
    "    #formatting is slightly inconsistent on ratings\n",
    "    try:\n",
    "        job_details['company_rating'] = float(soup_job.find('div', {'class':\"icl-Ratings-starsCountWrapper\"})\n",
    "                                              .get('aria-label')[0:3])\n",
    "    except:\n",
    "        try:\n",
    "            job_details['company_rating'] = (soup_job.find('div', {'class':\"icl-Ratings-starsCountWrapper\"})\n",
    "                                         .get('aria-label')[0:3])\n",
    "        except:\n",
    "            job_details['company_rating'] = None\n",
    "            \n",
    "    #salary data is often missing\n",
    "    try:\n",
    "        job_details['salary_data_text'] = soup_job.find('span', {'class':\"icl-u-xs-mr--xs\"}).text.strip()\n",
    "    except:\n",
    "        job_details['salary_data_text'] = None\n",
    "\n",
    "    return(job_details)\n"
   ]
  },
  {
   "cell_type": "code",
   "execution_count": 114,
   "metadata": {
    "scrolled": true
   },
   "outputs": [],
   "source": [
    "def collect_and_save_job_details(job_links, filename):\n",
    "    \n",
    "    \"\"\"Iterates through a list of links for individual jobs\n",
    "    Collects the details of each job\n",
    "    Converts to dataframe and saves to csv\"\"\"\n",
    "    \n",
    "    file_path = './data/' + filename\n",
    "    jobs = []\n",
    "\n",
    "    for job in job_links:\n",
    "        new_job = get_job_details(job)\n",
    "        jobs.append(new_job)\n",
    "\n",
    "    jobs_df = pd.DataFrame(jobs)\n",
    "    jobs_df.to_csv(file_path, index=False)\n",
    "    \n",
    "#     return jobs_df"
   ]
  },
  {
   "cell_type": "markdown",
   "metadata": {},
   "source": [
    "### Options for improvement: \n",
    "* Use the suggested searches at the bottom of the final page\n",
    "    * Continue until?? Some arbitrary level of data reached\n",
    "* Improve the dataframe created to include the industry from the original search\n",
    "    * Currently need to add manually, using something like the two cells below\n",
    "\n"
   ]
  },
  {
   "cell_type": "code",
   "execution_count": 115,
   "metadata": {},
   "outputs": [],
   "source": [
    "job_links_df = pd.read_csv('./data/finance_job_links.csv')\n",
    "finance_links = list(job_links_df['links'])    \n",
    "new_filename = 'finance_job_details.csv'\n",
    "\n",
    "collect_and_save_job_details(finance_links, new_filename)"
   ]
  },
  {
   "cell_type": "code",
   "execution_count": 116,
   "metadata": {
    "scrolled": true
   },
   "outputs": [
    {
     "name": "stdout",
     "output_type": "stream",
     "text": [
      "<class 'pandas.core.frame.DataFrame'>\n",
      "RangeIndex: 1493 entries, 0 to 1492\n",
      "Data columns (total 6 columns):\n",
      "company                     1488 non-null object\n",
      "company_rating              671 non-null object\n",
      "job_description_all_text    1492 non-null object\n",
      "job_title                   1492 non-null object\n",
      "salary_data_text            680 non-null object\n",
      "industry                    1493 non-null object\n",
      "dtypes: object(6)\n",
      "memory usage: 70.1+ KB\n"
     ]
    }
   ],
   "source": [
    "finance_df = pd.read_csv('./data/finance_job_details.csv')\n",
    "finance_df['industry'] = 'finance'\n",
    "finance_df.to_csv('./data/finance_job_details.csv', index=False)\n",
    "finance_df.info()"
   ]
  },
  {
   "cell_type": "markdown",
   "metadata": {},
   "source": [
    "### Code below saves additional code used to adjust and store data"
   ]
  },
  {
   "cell_type": "code",
   "execution_count": 90,
   "metadata": {},
   "outputs": [
    {
     "name": "stdout",
     "output_type": "stream",
     "text": [
      "56pages of jobs searched\n",
      "99pages of jobs searched\n",
      "101pages of jobs searched\n",
      "101pages of jobs searched\n",
      "101pages of jobs searched\n",
      "101pages of jobs searched\n"
     ]
    }
   ],
   "source": [
    "for industry in [['construction'], ['hospitality'], ['nursing'], ['manufacturing'], ['retail'], ['finance']]:\n",
    "    url = indeed_search(industry)\n",
    "    links_list = []\n",
    "\n",
    "    resulting_links = do_search(url, links_list, count=1)\n",
    "\n",
    "    links_df = pd.DataFrame(resulting_links)\n",
    "    links_df['industry'] = industry[0]\n",
    "    links_df = links_df.rename({0:'links'},axis='columns')\n",
    "\n",
    "    file_path = './data/' + industry[0] + '_job_links.csv'\n",
    "    links_df.to_csv(file_path)"
   ]
  },
  {
   "cell_type": "code",
   "execution_count": 91,
   "metadata": {
    "scrolled": true
   },
   "outputs": [
    {
     "data": {
      "text/html": [
       "<div>\n",
       "<style scoped>\n",
       "    .dataframe tbody tr th:only-of-type {\n",
       "        vertical-align: middle;\n",
       "    }\n",
       "\n",
       "    .dataframe tbody tr th {\n",
       "        vertical-align: top;\n",
       "    }\n",
       "\n",
       "    .dataframe thead th {\n",
       "        text-align: right;\n",
       "    }\n",
       "</style>\n",
       "<table border=\"1\" class=\"dataframe\">\n",
       "  <thead>\n",
       "    <tr style=\"text-align: right;\">\n",
       "      <th></th>\n",
       "      <th>links</th>\n",
       "      <th>industry</th>\n",
       "    </tr>\n",
       "  </thead>\n",
       "  <tbody>\n",
       "    <tr>\n",
       "      <th>0</th>\n",
       "      <td>https://au.indeed.com/pagead/clk?mo=r&amp;ad=-6NYl...</td>\n",
       "      <td>finance</td>\n",
       "    </tr>\n",
       "    <tr>\n",
       "      <th>1</th>\n",
       "      <td>https://au.indeed.com/pagead/clk?mo=r&amp;ad=-6NYl...</td>\n",
       "      <td>finance</td>\n",
       "    </tr>\n",
       "    <tr>\n",
       "      <th>2</th>\n",
       "      <td>https://au.indeed.com/pagead/clk?mo=r&amp;ad=-6NYl...</td>\n",
       "      <td>finance</td>\n",
       "    </tr>\n",
       "    <tr>\n",
       "      <th>3</th>\n",
       "      <td>https://au.indeed.com/pagead/clk?mo=r&amp;ad=-6NYl...</td>\n",
       "      <td>finance</td>\n",
       "    </tr>\n",
       "    <tr>\n",
       "      <th>4</th>\n",
       "      <td>https://au.indeed.com/company/Lucky-Ent-Pty-Lt...</td>\n",
       "      <td>finance</td>\n",
       "    </tr>\n",
       "  </tbody>\n",
       "</table>\n",
       "</div>"
      ],
      "text/plain": [
       "                                               links industry\n",
       "0  https://au.indeed.com/pagead/clk?mo=r&ad=-6NYl...  finance\n",
       "1  https://au.indeed.com/pagead/clk?mo=r&ad=-6NYl...  finance\n",
       "2  https://au.indeed.com/pagead/clk?mo=r&ad=-6NYl...  finance\n",
       "3  https://au.indeed.com/pagead/clk?mo=r&ad=-6NYl...  finance\n",
       "4  https://au.indeed.com/company/Lucky-Ent-Pty-Lt...  finance"
      ]
     },
     "execution_count": 91,
     "metadata": {},
     "output_type": "execute_result"
    }
   ],
   "source": [
    "links_df.head()"
   ]
  },
  {
   "cell_type": "code",
   "execution_count": 95,
   "metadata": {},
   "outputs": [],
   "source": [
    "job_links_df = pd.read_csv('./data/construction_job_links.csv')\n",
    "construction_links = list(job_links_df['links'])    \n",
    "new_filename = 'construction_job_details.csv'\n",
    "\n",
    "collect_and_save_job_details(construction_links, new_filename)"
   ]
  },
  {
   "cell_type": "code",
   "execution_count": 106,
   "metadata": {
    "scrolled": false
   },
   "outputs": [],
   "source": [
    "construction_df = pd.read_csv('./data/construction_job_details.csv')\n",
    "construction_df = construction_df.drop('Unnamed: 0', axis=1)\n",
    "construction_df['industry'] = 'construction'\n",
    "construction_df.to_csv('./data/construction_job_details.csv', index=False)"
   ]
  },
  {
   "cell_type": "code",
   "execution_count": 108,
   "metadata": {},
   "outputs": [
    {
     "name": "stdout",
     "output_type": "stream",
     "text": [
      "<class 'pandas.core.frame.DataFrame'>\n",
      "RangeIndex: 881 entries, 0 to 880\n",
      "Data columns (total 6 columns):\n",
      "company                     873 non-null object\n",
      "company_rating              355 non-null object\n",
      "job_description_all_text    881 non-null object\n",
      "job_title                   881 non-null object\n",
      "salary_data_text            417 non-null object\n",
      "industry                    881 non-null object\n",
      "dtypes: object(6)\n",
      "memory usage: 41.4+ KB\n"
     ]
    }
   ],
   "source": [
    "construction_df.info()"
   ]
  },
  {
   "cell_type": "code",
   "execution_count": 99,
   "metadata": {},
   "outputs": [],
   "source": [
    "job_links_df = pd.read_csv('./data/hospitality_job_links.csv')\n",
    "hospitality_links = list(job_links_df['links'])    \n",
    "new_filename = 'hospitality_job_details.csv'\n",
    "\n",
    "collect_and_save_job_details(hospitality_links, new_filename)"
   ]
  },
  {
   "cell_type": "code",
   "execution_count": 109,
   "metadata": {},
   "outputs": [
    {
     "name": "stdout",
     "output_type": "stream",
     "text": [
      "<class 'pandas.core.frame.DataFrame'>\n",
      "RangeIndex: 1408 entries, 0 to 1407\n",
      "Data columns (total 6 columns):\n",
      "company                     1383 non-null object\n",
      "company_rating              439 non-null object\n",
      "job_description_all_text    1383 non-null object\n",
      "job_title                   1383 non-null object\n",
      "salary_data_text            554 non-null object\n",
      "industry                    1408 non-null object\n",
      "dtypes: object(6)\n",
      "memory usage: 66.1+ KB\n"
     ]
    }
   ],
   "source": [
    "hospitality_df = pd.read_csv('./data/hospitality_job_details.csv')\n",
    "hospitality_df = hospitality_df.drop('Unnamed: 0', axis=1)\n",
    "hospitality_df['industry'] = 'hospitality'\n",
    "hospitality_df.to_csv('./data/hospitality_job_details.csv', index=False)\n",
    "hospitality_df.info()"
   ]
  },
  {
   "cell_type": "code",
   "execution_count": 100,
   "metadata": {},
   "outputs": [],
   "source": [
    "job_links_df = pd.read_csv('./data/nursing_job_links.csv')\n",
    "nursing_links = list(job_links_df['links'])    \n",
    "new_filename = 'nursing_job_details.csv'\n",
    "\n",
    "collect_and_save_job_details(nursing_links, new_filename)"
   ]
  },
  {
   "cell_type": "code",
   "execution_count": 110,
   "metadata": {},
   "outputs": [
    {
     "name": "stdout",
     "output_type": "stream",
     "text": [
      "<class 'pandas.core.frame.DataFrame'>\n",
      "RangeIndex: 1466 entries, 0 to 1465\n",
      "Data columns (total 6 columns):\n",
      "company                     1465 non-null object\n",
      "company_rating              770 non-null object\n",
      "job_description_all_text    1465 non-null object\n",
      "job_title                   1465 non-null object\n",
      "salary_data_text            310 non-null object\n",
      "industry                    1466 non-null object\n",
      "dtypes: object(6)\n",
      "memory usage: 68.8+ KB\n"
     ]
    }
   ],
   "source": [
    "nursing_df = pd.read_csv('./data/nursing_job_details.csv')\n",
    "nursing_df = nursing_df.drop('Unnamed: 0', axis=1)\n",
    "nursing_df['industry'] = 'nursing'\n",
    "nursing_df.to_csv('./data/nursing_job_details.csv', index=False)\n",
    "nursing_df.info()"
   ]
  },
  {
   "cell_type": "code",
   "execution_count": 101,
   "metadata": {},
   "outputs": [],
   "source": [
    "job_links_df = pd.read_csv('./data/manufacturing_job_links.csv')\n",
    "manufacturing_links = list(job_links_df['links'])    \n",
    "new_filename = 'manufacturing_job_details.csv'\n",
    "\n",
    "collect_and_save_job_details(manufacturing_links, new_filename)"
   ]
  },
  {
   "cell_type": "code",
   "execution_count": 111,
   "metadata": {},
   "outputs": [
    {
     "name": "stdout",
     "output_type": "stream",
     "text": [
      "<class 'pandas.core.frame.DataFrame'>\n",
      "RangeIndex: 1470 entries, 0 to 1469\n",
      "Data columns (total 6 columns):\n",
      "company                     1422 non-null object\n",
      "company_rating              724 non-null object\n",
      "job_description_all_text    1469 non-null object\n",
      "job_title                   1469 non-null object\n",
      "salary_data_text            580 non-null object\n",
      "industry                    1470 non-null object\n",
      "dtypes: object(6)\n",
      "memory usage: 69.0+ KB\n"
     ]
    }
   ],
   "source": [
    "manufacturing_df = pd.read_csv('./data/manufacturing_job_details.csv')\n",
    "manufacturing_df = manufacturing_df.drop('Unnamed: 0', axis=1)\n",
    "manufacturing_df['industry'] = 'manufacturing'\n",
    "manufacturing_df.to_csv('./data/manufacturing_job_details.csv', index=False)\n",
    "manufacturing_df.info()"
   ]
  },
  {
   "cell_type": "code",
   "execution_count": 102,
   "metadata": {},
   "outputs": [],
   "source": [
    "job_links_df = pd.read_csv('./data/retail_job_links.csv')\n",
    "retail_links = list(job_links_df['links'])    \n",
    "new_filename = 'retail_job_details.csv'\n",
    "\n",
    "collect_and_save_job_details(retail_links, new_filename)"
   ]
  },
  {
   "cell_type": "code",
   "execution_count": 112,
   "metadata": {},
   "outputs": [
    {
     "name": "stdout",
     "output_type": "stream",
     "text": [
      "<class 'pandas.core.frame.DataFrame'>\n",
      "RangeIndex: 1409 entries, 0 to 1408\n",
      "Data columns (total 6 columns):\n",
      "company                     1346 non-null object\n",
      "company_rating              851 non-null object\n",
      "job_description_all_text    1346 non-null object\n",
      "job_title                   1346 non-null object\n",
      "salary_data_text            209 non-null object\n",
      "industry                    1409 non-null object\n",
      "dtypes: object(6)\n",
      "memory usage: 66.1+ KB\n"
     ]
    }
   ],
   "source": [
    "retail_df = pd.read_csv('./data/retail_job_details.csv')\n",
    "retail_df = retail_df.drop('Unnamed: 0', axis=1)\n",
    "retail_df['industry'] = 'retail'\n",
    "retail_df.to_csv('./data/retail_job_details.csv', index=False)\n",
    "retail_df.info()"
   ]
  },
  {
   "cell_type": "code",
   "execution_count": 103,
   "metadata": {},
   "outputs": [],
   "source": [
    "job_links_df = pd.read_csv('./data/early_learning_job_links.csv')\n",
    "early_learning_links = list(job_links_df['links'])    \n",
    "new_filename = 'early_learning_job_details.csv'\n",
    "\n",
    "collect_and_save_job_details(early_learning_links, new_filename)"
   ]
  },
  {
   "cell_type": "code",
   "execution_count": 113,
   "metadata": {},
   "outputs": [
    {
     "name": "stdout",
     "output_type": "stream",
     "text": [
      "<class 'pandas.core.frame.DataFrame'>\n",
      "RangeIndex: 879 entries, 0 to 878\n",
      "Data columns (total 6 columns):\n",
      "company                     879 non-null object\n",
      "company_rating              436 non-null object\n",
      "job_description_all_text    879 non-null object\n",
      "job_title                   879 non-null object\n",
      "salary_data_text            142 non-null object\n",
      "industry                    879 non-null object\n",
      "dtypes: object(6)\n",
      "memory usage: 41.3+ KB\n"
     ]
    }
   ],
   "source": [
    "early_learning_df = pd.read_csv('./data/early_learning_job_details.csv')\n",
    "early_learning_df = early_learning_df.drop('Unnamed: 0', axis=1)\n",
    "early_learning_df['industry'] = 'early_learning'\n",
    "early_learning_df.to_csv('./data/early_learning_job_details.csv', index=False)\n",
    "early_learning_df.info()"
   ]
  },
  {
   "cell_type": "markdown",
   "metadata": {},
   "source": [
    "### Combining all datasets into one "
   ]
  },
  {
   "cell_type": "code",
   "execution_count": 126,
   "metadata": {},
   "outputs": [
    {
     "data": {
      "text/html": [
       "<div>\n",
       "<style scoped>\n",
       "    .dataframe tbody tr th:only-of-type {\n",
       "        vertical-align: middle;\n",
       "    }\n",
       "\n",
       "    .dataframe tbody tr th {\n",
       "        vertical-align: top;\n",
       "    }\n",
       "\n",
       "    .dataframe thead th {\n",
       "        text-align: right;\n",
       "    }\n",
       "</style>\n",
       "<table border=\"1\" class=\"dataframe\">\n",
       "  <thead>\n",
       "    <tr style=\"text-align: right;\">\n",
       "      <th></th>\n",
       "      <th>company</th>\n",
       "      <th>company_rating</th>\n",
       "      <th>industry</th>\n",
       "      <th>job_description_all_text</th>\n",
       "      <th>job_title</th>\n",
       "      <th>salary_data_text</th>\n",
       "    </tr>\n",
       "  </thead>\n",
       "  <tbody>\n",
       "    <tr>\n",
       "      <th>0</th>\n",
       "      <td>ANZ Banking Group</td>\n",
       "      <td>4.1</td>\n",
       "      <td>data</td>\n",
       "      <td>Consultant Data Scientist – Data Activation, M...</td>\n",
       "      <td>Data Scientist Consultant</td>\n",
       "      <td>NaN</td>\n",
       "    </tr>\n",
       "    <tr>\n",
       "      <th>1</th>\n",
       "      <td>NAB - National Australia Bank</td>\n",
       "      <td>3.8</td>\n",
       "      <td>data</td>\n",
       "      <td>Work type: Permanent Full time\\nLocation: Aust...</td>\n",
       "      <td>Data Scientist</td>\n",
       "      <td>NaN</td>\n",
       "    </tr>\n",
       "    <tr>\n",
       "      <th>2</th>\n",
       "      <td>ANZ Banking Group</td>\n",
       "      <td>4.1</td>\n",
       "      <td>data</td>\n",
       "      <td>The Team\\n\\nThe Customer Service Operations Au...</td>\n",
       "      <td>Senior Data Scientist</td>\n",
       "      <td>NaN</td>\n",
       "    </tr>\n",
       "    <tr>\n",
       "      <th>3</th>\n",
       "      <td>NAB - National Australia Bank</td>\n",
       "      <td>3.8</td>\n",
       "      <td>data</td>\n",
       "      <td>Work type: Permanent Full time\\nLocation: Aust...</td>\n",
       "      <td>Data Analytics Engineer</td>\n",
       "      <td>NaN</td>\n",
       "    </tr>\n",
       "    <tr>\n",
       "      <th>4</th>\n",
       "      <td>Coles</td>\n",
       "      <td>3.8</td>\n",
       "      <td>data</td>\n",
       "      <td>About Us\\n\\nThe Digital team is focused on rei...</td>\n",
       "      <td>Data Scientist</td>\n",
       "      <td>NaN</td>\n",
       "    </tr>\n",
       "  </tbody>\n",
       "</table>\n",
       "</div>"
      ],
      "text/plain": [
       "                         company company_rating industry  \\\n",
       "0              ANZ Banking Group            4.1     data   \n",
       "1  NAB - National Australia Bank            3.8     data   \n",
       "2              ANZ Banking Group            4.1     data   \n",
       "3  NAB - National Australia Bank            3.8     data   \n",
       "4                          Coles            3.8     data   \n",
       "\n",
       "                            job_description_all_text  \\\n",
       "0  Consultant Data Scientist – Data Activation, M...   \n",
       "1  Work type: Permanent Full time\\nLocation: Aust...   \n",
       "2  The Team\\n\\nThe Customer Service Operations Au...   \n",
       "3  Work type: Permanent Full time\\nLocation: Aust...   \n",
       "4  About Us\\n\\nThe Digital team is focused on rei...   \n",
       "\n",
       "                   job_title salary_data_text  \n",
       "0  Data Scientist Consultant              NaN  \n",
       "1             Data Scientist              NaN  \n",
       "2      Senior Data Scientist              NaN  \n",
       "3    Data Analytics Engineer              NaN  \n",
       "4             Data Scientist              NaN  "
      ]
     },
     "execution_count": 126,
     "metadata": {},
     "output_type": "execute_result"
    }
   ],
   "source": [
    "data_df = pd.read_csv('./data/final_data_job_details.csv')\n",
    "data_df = data_df.drop('Unnamed: 0', axis=1)\n",
    "data_df.head()"
   ]
  },
  {
   "cell_type": "code",
   "execution_count": 127,
   "metadata": {
    "scrolled": true
   },
   "outputs": [
    {
     "name": "stderr",
     "output_type": "stream",
     "text": [
      "C:\\ProgramData\\Anaconda3\\lib\\site-packages\\ipykernel_launcher.py:3: FutureWarning: Sorting because non-concatenation axis is not aligned. A future version\n",
      "of pandas will change to not sort by default.\n",
      "\n",
      "To accept the future behavior, pass 'sort=False'.\n",
      "\n",
      "To retain the current behavior and silence the warning, pass 'sort=True'.\n",
      "\n",
      "  This is separate from the ipykernel package so we can avoid doing imports until\n"
     ]
    }
   ],
   "source": [
    "frames = [data_df, construction_df, manufacturing_df, retail_df, \n",
    "          hospitality_df, finance_df, nursing_df, early_learning_df]\n",
    "full_dataset_1 = pd.concat(frames)"
   ]
  },
  {
   "cell_type": "code",
   "execution_count": 128,
   "metadata": {},
   "outputs": [
    {
     "data": {
      "text/html": [
       "<div>\n",
       "<style scoped>\n",
       "    .dataframe tbody tr th:only-of-type {\n",
       "        vertical-align: middle;\n",
       "    }\n",
       "\n",
       "    .dataframe tbody tr th {\n",
       "        vertical-align: top;\n",
       "    }\n",
       "\n",
       "    .dataframe thead th {\n",
       "        text-align: right;\n",
       "    }\n",
       "</style>\n",
       "<table border=\"1\" class=\"dataframe\">\n",
       "  <thead>\n",
       "    <tr style=\"text-align: right;\">\n",
       "      <th></th>\n",
       "      <th>company</th>\n",
       "      <th>company_rating</th>\n",
       "      <th>industry</th>\n",
       "      <th>job_description_all_text</th>\n",
       "      <th>job_title</th>\n",
       "      <th>salary_data_text</th>\n",
       "    </tr>\n",
       "  </thead>\n",
       "  <tbody>\n",
       "    <tr>\n",
       "      <th>0</th>\n",
       "      <td>ANZ Banking Group</td>\n",
       "      <td>4.1</td>\n",
       "      <td>data</td>\n",
       "      <td>Consultant Data Scientist – Data Activation, M...</td>\n",
       "      <td>Data Scientist Consultant</td>\n",
       "      <td>NaN</td>\n",
       "    </tr>\n",
       "    <tr>\n",
       "      <th>1</th>\n",
       "      <td>NAB - National Australia Bank</td>\n",
       "      <td>3.8</td>\n",
       "      <td>data</td>\n",
       "      <td>Work type: Permanent Full time\\nLocation: Aust...</td>\n",
       "      <td>Data Scientist</td>\n",
       "      <td>NaN</td>\n",
       "    </tr>\n",
       "    <tr>\n",
       "      <th>2</th>\n",
       "      <td>ANZ Banking Group</td>\n",
       "      <td>4.1</td>\n",
       "      <td>data</td>\n",
       "      <td>The Team\\n\\nThe Customer Service Operations Au...</td>\n",
       "      <td>Senior Data Scientist</td>\n",
       "      <td>NaN</td>\n",
       "    </tr>\n",
       "    <tr>\n",
       "      <th>3</th>\n",
       "      <td>NAB - National Australia Bank</td>\n",
       "      <td>3.8</td>\n",
       "      <td>data</td>\n",
       "      <td>Work type: Permanent Full time\\nLocation: Aust...</td>\n",
       "      <td>Data Analytics Engineer</td>\n",
       "      <td>NaN</td>\n",
       "    </tr>\n",
       "    <tr>\n",
       "      <th>4</th>\n",
       "      <td>Coles</td>\n",
       "      <td>3.8</td>\n",
       "      <td>data</td>\n",
       "      <td>About Us\\n\\nThe Digital team is focused on rei...</td>\n",
       "      <td>Data Scientist</td>\n",
       "      <td>NaN</td>\n",
       "    </tr>\n",
       "  </tbody>\n",
       "</table>\n",
       "</div>"
      ],
      "text/plain": [
       "                         company company_rating industry  \\\n",
       "0              ANZ Banking Group            4.1     data   \n",
       "1  NAB - National Australia Bank            3.8     data   \n",
       "2              ANZ Banking Group            4.1     data   \n",
       "3  NAB - National Australia Bank            3.8     data   \n",
       "4                          Coles            3.8     data   \n",
       "\n",
       "                            job_description_all_text  \\\n",
       "0  Consultant Data Scientist – Data Activation, M...   \n",
       "1  Work type: Permanent Full time\\nLocation: Aust...   \n",
       "2  The Team\\n\\nThe Customer Service Operations Au...   \n",
       "3  Work type: Permanent Full time\\nLocation: Aust...   \n",
       "4  About Us\\n\\nThe Digital team is focused on rei...   \n",
       "\n",
       "                   job_title salary_data_text  \n",
       "0  Data Scientist Consultant              NaN  \n",
       "1             Data Scientist              NaN  \n",
       "2      Senior Data Scientist              NaN  \n",
       "3    Data Analytics Engineer              NaN  \n",
       "4             Data Scientist              NaN  "
      ]
     },
     "execution_count": 128,
     "metadata": {},
     "output_type": "execute_result"
    }
   ],
   "source": [
    "full_dataset_1.head()"
   ]
  },
  {
   "cell_type": "code",
   "execution_count": 129,
   "metadata": {
    "scrolled": true
   },
   "outputs": [
    {
     "name": "stdout",
     "output_type": "stream",
     "text": [
      "<class 'pandas.core.frame.DataFrame'>\n",
      "Int64Index: 12957 entries, 0 to 878\n",
      "Data columns (total 6 columns):\n",
      "company                     12796 non-null object\n",
      "company_rating              6509 non-null object\n",
      "industry                    12957 non-null object\n",
      "job_description_all_text    12866 non-null object\n",
      "job_title                   12866 non-null object\n",
      "salary_data_text            4066 non-null object\n",
      "dtypes: object(6)\n",
      "memory usage: 708.6+ KB\n"
     ]
    }
   ],
   "source": [
    "full_dataset_1.info()"
   ]
  },
  {
   "cell_type": "code",
   "execution_count": 130,
   "metadata": {},
   "outputs": [],
   "source": [
    "full_dataset_1.to_csv('./data/full_dataset_1.csv', index=False)"
   ]
  },
  {
   "cell_type": "code",
   "execution_count": 131,
   "metadata": {},
   "outputs": [
    {
     "name": "stdout",
     "output_type": "stream",
     "text": [
      "<class 'pandas.core.frame.DataFrame'>\n",
      "RangeIndex: 12957 entries, 0 to 12956\n",
      "Data columns (total 6 columns):\n",
      "company                     12796 non-null object\n",
      "company_rating              6509 non-null object\n",
      "industry                    12957 non-null object\n",
      "job_description_all_text    12866 non-null object\n",
      "job_title                   12866 non-null object\n",
      "salary_data_text            4066 non-null object\n",
      "dtypes: object(6)\n",
      "memory usage: 607.4+ KB\n",
      "None\n"
     ]
    },
    {
     "data": {
      "text/html": [
       "<div>\n",
       "<style scoped>\n",
       "    .dataframe tbody tr th:only-of-type {\n",
       "        vertical-align: middle;\n",
       "    }\n",
       "\n",
       "    .dataframe tbody tr th {\n",
       "        vertical-align: top;\n",
       "    }\n",
       "\n",
       "    .dataframe thead th {\n",
       "        text-align: right;\n",
       "    }\n",
       "</style>\n",
       "<table border=\"1\" class=\"dataframe\">\n",
       "  <thead>\n",
       "    <tr style=\"text-align: right;\">\n",
       "      <th></th>\n",
       "      <th>company</th>\n",
       "      <th>company_rating</th>\n",
       "      <th>industry</th>\n",
       "      <th>job_description_all_text</th>\n",
       "      <th>job_title</th>\n",
       "      <th>salary_data_text</th>\n",
       "    </tr>\n",
       "  </thead>\n",
       "  <tbody>\n",
       "    <tr>\n",
       "      <th>0</th>\n",
       "      <td>ANZ Banking Group</td>\n",
       "      <td>4.1</td>\n",
       "      <td>data</td>\n",
       "      <td>Consultant Data Scientist – Data Activation, M...</td>\n",
       "      <td>Data Scientist Consultant</td>\n",
       "      <td>NaN</td>\n",
       "    </tr>\n",
       "    <tr>\n",
       "      <th>1</th>\n",
       "      <td>NAB - National Australia Bank</td>\n",
       "      <td>3.8</td>\n",
       "      <td>data</td>\n",
       "      <td>Work type: Permanent Full time\\nLocation: Aust...</td>\n",
       "      <td>Data Scientist</td>\n",
       "      <td>NaN</td>\n",
       "    </tr>\n",
       "    <tr>\n",
       "      <th>2</th>\n",
       "      <td>ANZ Banking Group</td>\n",
       "      <td>4.1</td>\n",
       "      <td>data</td>\n",
       "      <td>The Team\\n\\nThe Customer Service Operations Au...</td>\n",
       "      <td>Senior Data Scientist</td>\n",
       "      <td>NaN</td>\n",
       "    </tr>\n",
       "    <tr>\n",
       "      <th>3</th>\n",
       "      <td>NAB - National Australia Bank</td>\n",
       "      <td>3.8</td>\n",
       "      <td>data</td>\n",
       "      <td>Work type: Permanent Full time\\nLocation: Aust...</td>\n",
       "      <td>Data Analytics Engineer</td>\n",
       "      <td>NaN</td>\n",
       "    </tr>\n",
       "    <tr>\n",
       "      <th>4</th>\n",
       "      <td>Coles</td>\n",
       "      <td>3.8</td>\n",
       "      <td>data</td>\n",
       "      <td>About Us\\n\\nThe Digital team is focused on rei...</td>\n",
       "      <td>Data Scientist</td>\n",
       "      <td>NaN</td>\n",
       "    </tr>\n",
       "  </tbody>\n",
       "</table>\n",
       "</div>"
      ],
      "text/plain": [
       "                         company company_rating industry  \\\n",
       "0              ANZ Banking Group            4.1     data   \n",
       "1  NAB - National Australia Bank            3.8     data   \n",
       "2              ANZ Banking Group            4.1     data   \n",
       "3  NAB - National Australia Bank            3.8     data   \n",
       "4                          Coles            3.8     data   \n",
       "\n",
       "                            job_description_all_text  \\\n",
       "0  Consultant Data Scientist – Data Activation, M...   \n",
       "1  Work type: Permanent Full time\\nLocation: Aust...   \n",
       "2  The Team\\n\\nThe Customer Service Operations Au...   \n",
       "3  Work type: Permanent Full time\\nLocation: Aust...   \n",
       "4  About Us\\n\\nThe Digital team is focused on rei...   \n",
       "\n",
       "                   job_title salary_data_text  \n",
       "0  Data Scientist Consultant              NaN  \n",
       "1             Data Scientist              NaN  \n",
       "2      Senior Data Scientist              NaN  \n",
       "3    Data Analytics Engineer              NaN  \n",
       "4             Data Scientist              NaN  "
      ]
     },
     "execution_count": 131,
     "metadata": {},
     "output_type": "execute_result"
    }
   ],
   "source": [
    "test_data = pd.read_csv('./data/full_dataset_1.csv')\n",
    "print(test_data.info())\n",
    "test_data.head()"
   ]
  },
  {
   "cell_type": "markdown",
   "metadata": {},
   "source": [
    "### Initial testing of process"
   ]
  },
  {
   "cell_type": "markdown",
   "metadata": {},
   "source": [
    "#setting starting values for search\n",
    "search_url = indeed_search(['data','scientist'],['Melbourne','VIC'])\n",
    "initial_list = []"
   ]
  },
  {
   "cell_type": "markdown",
   "metadata": {
    "collapsed": true
   },
   "source": [
    "job_links = do_search(search_url, initial_list)"
   ]
  },
  {
   "cell_type": "markdown",
   "metadata": {
    "scrolled": true
   },
   "source": [
    "#more links than expected; not sure why; investigated a little with selenium & manually, but unclear\n",
    "len(job_links)"
   ]
  },
  {
   "cell_type": "markdown",
   "metadata": {
    "scrolled": true
   },
   "source": [
    "#pulling job details out of data science search links\n",
    "jobs = [get_job_details(job) for job in job_links]"
   ]
  },
  {
   "cell_type": "markdown",
   "metadata": {},
   "source": [
    "#checking that it worked as expected\n",
    "len(jobs)"
   ]
  },
  {
   "cell_type": "markdown",
   "metadata": {},
   "source": [
    "jobs_df = pd.DataFrame(jobs)"
   ]
  },
  {
   "cell_type": "markdown",
   "metadata": {},
   "source": [
    "jobs_df.columns"
   ]
  },
  {
   "cell_type": "markdown",
   "metadata": {
    "scrolled": true
   },
   "source": [
    "column_order = ['job_title', 'company', 'company_rating', 'job_description_all_text', 'salary_data_text']\n",
    "jobs_df = jobs_df[column_order]\n",
    "jobs_df.head(10)"
   ]
  },
  {
   "cell_type": "markdown",
   "metadata": {
    "scrolled": false
   },
   "source": [
    "jobs_df.info()"
   ]
  },
  {
   "cell_type": "markdown",
   "metadata": {},
   "source": [
    "jobs_df.to_csv('./data/data_scientist_search_results.csv')"
   ]
  },
  {
   "cell_type": "markdown",
   "metadata": {},
   "source": [
    "### Mostly looks as expected\n",
    "Very few salaries, some missing company ratings. Will convert salaries and company ratings to numericals once full dataset is collected.\n",
    "\n",
    "### Collecting additional jobs via alternate search terms"
   ]
  },
  {
   "cell_type": "markdown",
   "metadata": {},
   "source": [
    "#setting up search urls\n",
    "search_options = [['data', 'analyst'],\n",
    "                  ['machine', 'learning'],\n",
    "                  ['business', 'analyst'],\n",
    "                  ['business', 'intelligence'],\n",
    "                  ['researcher'],\n",
    "                  ['junior', 'data', 'scientist'],\n",
    "                  ['data', 'engineer'],\n",
    "                  ['python']]\n",
    "\n",
    "search_urls = [indeed_search(option,['Melbourne','VIC']) for option in search_options]  "
   ]
  },
  {
   "cell_type": "markdown",
   "metadata": {},
   "source": [
    "search_urls"
   ]
  },
  {
   "cell_type": "markdown",
   "metadata": {
    "scrolled": true
   },
   "source": [
    "job_links = []\n",
    "for url in search_urls:\n",
    "    initial_list = []\n",
    "    job_links = job_links + do_search(url, initial_list)\n",
    "    print(len(job_links))\n"
   ]
  },
  {
   "cell_type": "markdown",
   "metadata": {},
   "source": [
    "len(job_links)"
   ]
  },
  {
   "cell_type": "markdown",
   "metadata": {},
   "source": [
    "job_links_df = pd.DataFrame(job_links)\n",
    "job_links_df.to_csv('./data/data_job_links.csv')"
   ]
  },
  {
   "cell_type": "markdown",
   "metadata": {},
   "source": [
    "job_links_df = pd.read_csv('./data/data_job_links.csv')\n"
   ]
  },
  {
   "cell_type": "markdown",
   "metadata": {},
   "source": [
    "job_links_df.columns = ['number','link']\n",
    "job_links_df.head()"
   ]
  },
  {
   "cell_type": "markdown",
   "metadata": {},
   "source": [
    "job_links = list(job_links_df.link)"
   ]
  },
  {
   "cell_type": "markdown",
   "metadata": {
    "scrolled": true
   },
   "source": [
    "collect_and_save_job_details(job_links,'other_data_job_details.csv')"
   ]
  },
  {
   "cell_type": "markdown",
   "metadata": {},
   "source": [
    "test_df = pd.read_csv('./data/other_data_job_details.csv')\n",
    "test_df.head()"
   ]
  },
  {
   "cell_type": "markdown",
   "metadata": {},
   "source": [
    "test_df.info()"
   ]
  },
  {
   "cell_type": "markdown",
   "metadata": {},
   "source": [
    "test_df['industry'] = 'data'\n",
    "test_df.head()"
   ]
  },
  {
   "cell_type": "markdown",
   "metadata": {},
   "source": [
    "test_df.to_csv('./data/other_data_job_details.csv')\n",
    "data_df = pd.read_csv('./data/other_data_job_details.csv')\n",
    "data_df.head()"
   ]
  },
  {
   "cell_type": "markdown",
   "metadata": {},
   "source": [
    "data_df = data_df.drop(['Unnamed: 0', 'Unnamed: 0.1'], axis=1)"
   ]
  },
  {
   "cell_type": "markdown",
   "metadata": {},
   "source": [
    "data_df.info()"
   ]
  },
  {
   "cell_type": "markdown",
   "metadata": {},
   "source": [
    "datascience_df = pd.read_csv('./data/data_scientist_search_results.csv')\n",
    "datascience_df.head()"
   ]
  },
  {
   "cell_type": "markdown",
   "metadata": {},
   "source": [
    "datascience_df['industry'] = 'data'\n",
    "datascience_df = datascience_df.drop('Unnamed: 0', axis=1)\n",
    "datascience_df.head()\n",
    "\n"
   ]
  },
  {
   "cell_type": "markdown",
   "metadata": {},
   "source": [
    "data_jobs_df = pd.concat([datascience_df, data_df], axis=0)\n",
    "data_jobs_df.head()"
   ]
  },
  {
   "cell_type": "markdown",
   "metadata": {},
   "source": [
    "data_jobs_df.info()"
   ]
  },
  {
   "cell_type": "markdown",
   "metadata": {},
   "source": [
    "data_jobs_df.to_csv('./data/final_data_job_details.csv')\n"
   ]
  },
  {
   "cell_type": "markdown",
   "metadata": {},
   "source": [
    "all_data_jobs = pd.read_csv('./data/final_data_job_details.csv')\n",
    "all_data_jobs.info()"
   ]
  },
  {
   "cell_type": "markdown",
   "metadata": {},
   "source": [
    "### Notes from writing function to collect job details"
   ]
  },
  {
   "cell_type": "code",
   "execution_count": null,
   "metadata": {},
   "outputs": [],
   "source": [
    "# Job Title location in individual page\n",
    "job_title = job_soup.find('h3')\n",
    "job_title.text.strip()"
   ]
  },
  {
   "cell_type": "code",
   "execution_count": null,
   "metadata": {},
   "outputs": [],
   "source": [
    "#Company in individual page\n",
    "company = job_soup.find('div', {'class':\"icl-u-lg-mr--sm icl-u-xs-mr--xs\"})\n",
    "company.text.strip()"
   ]
  },
  {
   "cell_type": "code",
   "execution_count": null,
   "metadata": {},
   "outputs": [],
   "source": [
    "#Company rating in individual page\n",
    "company_rating = float(job_soup.find('div', {'class':\"icl-Ratings-starsCountWrapper\"}).get('aria-label')[0:3])\n",
    "company_rating\n",
    "# company_rating.get('aria-label')\n",
    "# <div tabindex=\"0\" class=\"icl-Ratings-starsCountWrapper\" aria-label=\"4.1 out of 5\"><div class=\"icl-Ratings-starsWrapper\"><div class=\"icl-Ratings-starsUnfilled\"><div class=\"icl-Ratings-starsFilled\" style=\"width: 76.19999885559082px;\"></div></div></div><div class=\"icl-Ratings-count\" aria-hidden=\"true\">983 reviews</div></div>"
   ]
  },
  {
   "cell_type": "code",
   "execution_count": null,
   "metadata": {
    "scrolled": true
   },
   "outputs": [],
   "source": [
    "#Full job description in individual page\n",
    "description = job_soup.find('div',{'id':'jobDescriptionText'}).text.strip()\n",
    "description"
   ]
  },
  {
   "cell_type": "code",
   "execution_count": null,
   "metadata": {},
   "outputs": [],
   "source": [
    "#Job description in individual page - switched to above\n",
    "description= job_soup.find('span', {'class':\"jobsearch-JobMetadataHeader-iconLabel\"}).text.strip()\n",
    "description\n"
   ]
  },
  {
   "cell_type": "code",
   "execution_count": null,
   "metadata": {},
   "outputs": [],
   "source": [
    "#Salary in individual page\n",
    "try:\n",
    "    salary_data = soup_job2.find('span', {'class':\"icl-u-xs-mr--xs\"}).text.strip()\n",
    "except:\n",
    "    salary_data = None\n",
    "salary_data"
   ]
  }
 ],
 "metadata": {
  "kernelspec": {
   "display_name": "Python 3",
   "language": "python",
   "name": "python3"
  },
  "language_info": {
   "codemirror_mode": {
    "name": "ipython",
    "version": 3
   },
   "file_extension": ".py",
   "mimetype": "text/x-python",
   "name": "python",
   "nbconvert_exporter": "python",
   "pygments_lexer": "ipython3",
   "version": "3.7.3"
  }
 },
 "nbformat": 4,
 "nbformat_minor": 2
}
