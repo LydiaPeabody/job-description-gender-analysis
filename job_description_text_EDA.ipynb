{
 "cells": [
  {
   "cell_type": "code",
   "execution_count": 1,
   "metadata": {},
   "outputs": [],
   "source": [
    "import pandas as pd\n",
    "import numpy as np\n",
    "import re\n",
    "\n",
    "import matplotlib.pyplot as plt\n",
    "import seaborn as sns\n",
    "\n",
    "%matplotlib inline"
   ]
  },
  {
   "cell_type": "code",
   "execution_count": 5,
   "metadata": {},
   "outputs": [
    {
     "name": "stdout",
     "output_type": "stream",
     "text": [
      "(20029, 7)\n"
     ]
    },
    {
     "data": {
      "text/html": [
       "<div>\n",
       "<style scoped>\n",
       "    .dataframe tbody tr th:only-of-type {\n",
       "        vertical-align: middle;\n",
       "    }\n",
       "\n",
       "    .dataframe tbody tr th {\n",
       "        vertical-align: top;\n",
       "    }\n",
       "\n",
       "    .dataframe thead th {\n",
       "        text-align: right;\n",
       "    }\n",
       "</style>\n",
       "<table border=\"1\" class=\"dataframe\">\n",
       "  <thead>\n",
       "    <tr style=\"text-align: right;\">\n",
       "      <th></th>\n",
       "      <th>company</th>\n",
       "      <th>company_rating</th>\n",
       "      <th>industry</th>\n",
       "      <th>job_description_all_text</th>\n",
       "      <th>job_title</th>\n",
       "      <th>location</th>\n",
       "      <th>salary_data_text</th>\n",
       "    </tr>\n",
       "  </thead>\n",
       "  <tbody>\n",
       "    <tr>\n",
       "      <th>0</th>\n",
       "      <td>ANZ Banking Group</td>\n",
       "      <td>4.1</td>\n",
       "      <td>data</td>\n",
       "      <td>Consultant Data Scientist – Data Activation, M...</td>\n",
       "      <td>Data Scientist Consultant</td>\n",
       "      <td>Melbourne</td>\n",
       "      <td>NaN</td>\n",
       "    </tr>\n",
       "    <tr>\n",
       "      <th>1</th>\n",
       "      <td>NAB - National Australia Bank</td>\n",
       "      <td>3.8</td>\n",
       "      <td>data</td>\n",
       "      <td>Work type: Permanent Full time\\nLocation: Aust...</td>\n",
       "      <td>Data Scientist</td>\n",
       "      <td>Melbourne</td>\n",
       "      <td>NaN</td>\n",
       "    </tr>\n",
       "    <tr>\n",
       "      <th>2</th>\n",
       "      <td>ANZ Banking Group</td>\n",
       "      <td>4.1</td>\n",
       "      <td>data</td>\n",
       "      <td>The Team\\n\\nThe Customer Service Operations Au...</td>\n",
       "      <td>Senior Data Scientist</td>\n",
       "      <td>Melbourne</td>\n",
       "      <td>NaN</td>\n",
       "    </tr>\n",
       "    <tr>\n",
       "      <th>3</th>\n",
       "      <td>NAB - National Australia Bank</td>\n",
       "      <td>3.8</td>\n",
       "      <td>data</td>\n",
       "      <td>Work type: Permanent Full time\\nLocation: Aust...</td>\n",
       "      <td>Data Analytics Engineer</td>\n",
       "      <td>Melbourne</td>\n",
       "      <td>NaN</td>\n",
       "    </tr>\n",
       "    <tr>\n",
       "      <th>4</th>\n",
       "      <td>Coles</td>\n",
       "      <td>3.8</td>\n",
       "      <td>data</td>\n",
       "      <td>About Us\\n\\nThe Digital team is focused on rei...</td>\n",
       "      <td>Data Scientist</td>\n",
       "      <td>Melbourne</td>\n",
       "      <td>NaN</td>\n",
       "    </tr>\n",
       "  </tbody>\n",
       "</table>\n",
       "</div>"
      ],
      "text/plain": [
       "                         company  company_rating industry  \\\n",
       "0              ANZ Banking Group             4.1     data   \n",
       "1  NAB - National Australia Bank             3.8     data   \n",
       "2              ANZ Banking Group             4.1     data   \n",
       "3  NAB - National Australia Bank             3.8     data   \n",
       "4                          Coles             3.8     data   \n",
       "\n",
       "                            job_description_all_text  \\\n",
       "0  Consultant Data Scientist – Data Activation, M...   \n",
       "1  Work type: Permanent Full time\\nLocation: Aust...   \n",
       "2  The Team\\n\\nThe Customer Service Operations Au...   \n",
       "3  Work type: Permanent Full time\\nLocation: Aust...   \n",
       "4  About Us\\n\\nThe Digital team is focused on rei...   \n",
       "\n",
       "                   job_title   location salary_data_text  \n",
       "0  Data Scientist Consultant  Melbourne              NaN  \n",
       "1             Data Scientist  Melbourne              NaN  \n",
       "2      Senior Data Scientist  Melbourne              NaN  \n",
       "3    Data Analytics Engineer  Melbourne              NaN  \n",
       "4             Data Scientist  Melbourne              NaN  "
      ]
     },
     "execution_count": 5,
     "metadata": {},
     "output_type": "execute_result"
    }
   ],
   "source": [
    "#importing raw data\n",
    "jobs_original = pd.read_csv('./data/alljobs_nodupes.csv')\n",
    "print(jobs_original.shape)\n",
    "jobs_original.head()"
   ]
  },
  {
   "cell_type": "code",
   "execution_count": 6,
   "metadata": {},
   "outputs": [],
   "source": [
    "jd_text = jobs_original.job_description_all_text"
   ]
  },
  {
   "cell_type": "code",
   "execution_count": null,
   "metadata": {},
   "outputs": [],
   "source": []
  }
 ],
 "metadata": {
  "kernelspec": {
   "display_name": "Python 3",
   "language": "python",
   "name": "python3"
  },
  "language_info": {
   "codemirror_mode": {
    "name": "ipython",
    "version": 3
   },
   "file_extension": ".py",
   "mimetype": "text/x-python",
   "name": "python",
   "nbconvert_exporter": "python",
   "pygments_lexer": "ipython3",
   "version": "3.7.3"
  }
 },
 "nbformat": 4,
 "nbformat_minor": 2
}
